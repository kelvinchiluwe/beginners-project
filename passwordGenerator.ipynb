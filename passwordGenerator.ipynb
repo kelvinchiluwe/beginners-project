{
 "cells": [
  {
   "cell_type": "code",
   "execution_count": 1,
   "id": "a46e6d2e-f235-4ce1-9335-82144ec863f6",
   "metadata": {},
   "outputs": [],
   "source": [
    "import random"
   ]
  },
  {
   "cell_type": "code",
   "execution_count": 7,
   "id": "9995652a-7fc5-4fed-b41d-9da7d14d3e77",
   "metadata": {},
   "outputs": [
    {
     "name": "stdout",
     "output_type": "stream",
     "text": [
      "the password generated password is 6813\n"
     ]
    }
   ],
   "source": [
    "passlen=4\n",
    "suggested_range='123456789'\n",
    "password=''.join(random.sample(suggested_range,passlen))\n",
    "print(f'the password generated password is {password}')"
   ]
  },
  {
   "cell_type": "code",
   "execution_count": null,
   "id": "3553a126-8e75-49e3-bc3f-af95f1694988",
   "metadata": {},
   "outputs": [],
   "source": []
  }
 ],
 "metadata": {
  "kernelspec": {
   "display_name": "Python 3 (ipykernel)",
   "language": "python",
   "name": "python3"
  },
  "language_info": {
   "codemirror_mode": {
    "name": "ipython",
    "version": 3
   },
   "file_extension": ".py",
   "mimetype": "text/x-python",
   "name": "python",
   "nbconvert_exporter": "python",
   "pygments_lexer": "ipython3",
   "version": "3.13.2"
  }
 },
 "nbformat": 4,
 "nbformat_minor": 5
}

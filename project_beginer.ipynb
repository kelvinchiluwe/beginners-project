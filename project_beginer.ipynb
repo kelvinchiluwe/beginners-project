{
 "cells": [
  {
   "cell_type": "code",
   "execution_count": 2,
   "id": "cd2227dd-a313-4b58-9099-02bfef152b43",
   "metadata": {},
   "outputs": [],
   "source": [
    "#project1 quiz\n",
    "def quiz():\n",
    "    print('\\n___welcome to kelvin quiz___!')\n",
    "\n",
    "    playing=input('do you wanna play the game?  :').lower()\n",
    "\n",
    "    if playing == 'yes':\n",
    "        print('okay lets play')\n",
    "        quit()\n",
    "        marks=0\n",
    "        for marks in range (4):\n",
    "            print('\\n===answer the following question===:  ')\n",
    "            \n",
    "            print('question 1.....')\n",
    "            answer=input('what agriculture? :')\n",
    "            if answer == 'farming':\n",
    "                print(\"correct!\")\n",
    "                marks +=2\n",
    "            else:\n",
    "               print('incorrect')\n",
    "\n",
    "            \n",
    "            print('question 2....')          \n",
    "            answer=input('what biology? :')\n",
    "            if answer == 'living things':\n",
    "                print(\"correct!\")\n",
    "                marks +=2\n",
    "            else:\n",
    "                print('incorrect')\n",
    "\n",
    "            print('question 3.....')\n",
    "            answer=input('what reptiles? :')\n",
    "            if answer == 'crawing':\n",
    "                print(\"correct!\")\n",
    "                marks +=2\n",
    "            else:\n",
    "                print('incorrect')\n",
    "\n",
    "                \n",
    "                print('question 4....')          \n",
    "                answer=input('STLs stands for? :')\n",
    "            if answer == 'sexual transmitted infections':\n",
    "                print(\"correct!\")\n",
    "                marks +=2\n",
    "            else:\n",
    "                print('incorrect')\n",
    "                print(f'you have scored {marks}/8')\n",
    "                break\n",
    "        \n",
    "\n",
    "\n",
    "\n",
    "\n",
    "\n",
    "                "
   ]
  },
  {
   "cell_type": "code",
   "execution_count": 4,
   "id": "5a1de720-03d9-4e76-9cf2-d4cf2257fdf2",
   "metadata": {},
   "outputs": [
    {
     "name": "stdout",
     "output_type": "stream",
     "text": [
      "\n",
      "___welcome to kelvin quiz___!\n"
     ]
    },
    {
     "name": "stdin",
     "output_type": "stream",
     "text": [
      "do you wanna play the game?  : yes\n"
     ]
    },
    {
     "name": "stdout",
     "output_type": "stream",
     "text": [
      "okay lets play\n",
      "\n",
      "===answer the following question===:  \n",
      "question 1.....\n"
     ]
    },
    {
     "name": "stdin",
     "output_type": "stream",
     "text": [
      "what agriculture? : farming\n"
     ]
    },
    {
     "name": "stdout",
     "output_type": "stream",
     "text": [
      "correct!\n",
      "question 2....\n"
     ]
    },
    {
     "name": "stdin",
     "output_type": "stream",
     "text": [
      "what biology? : living things\n"
     ]
    },
    {
     "name": "stdout",
     "output_type": "stream",
     "text": [
      "correct!\n",
      "question 3.....\n"
     ]
    },
    {
     "name": "stdin",
     "output_type": "stream",
     "text": [
      "what reptiles? : e\n"
     ]
    },
    {
     "name": "stdout",
     "output_type": "stream",
     "text": [
      "incorrect\n",
      "question 4....\n"
     ]
    },
    {
     "name": "stdin",
     "output_type": "stream",
     "text": [
      "STLs stands for? : t\n"
     ]
    },
    {
     "name": "stdout",
     "output_type": "stream",
     "text": [
      "incorrect\n",
      "you have scored 4/8\n"
     ]
    }
   ],
   "source": [
    "quiz()"
   ]
  },
  {
   "cell_type": "code",
   "execution_count": 1,
   "id": "4accb0b0-81a2-41ae-8929-e0e988d3bb8f",
   "metadata": {},
   "outputs": [
    {
     "name": "stdout",
     "output_type": "stream",
     "text": [
      "\n",
      "====welcome to guessing game====\n"
     ]
    },
    {
     "name": "stdin",
     "output_type": "stream",
     "text": [
      "enter yuor guessed number:   u\n"
     ]
    },
    {
     "name": "stdout",
     "output_type": "stream",
     "text": [
      "enter a number next time\n",
      "\n",
      "====welcome to guessing game====\n"
     ]
    },
    {
     "name": "stdin",
     "output_type": "stream",
     "text": [
      "enter yuor guessed number:   yes\n"
     ]
    },
    {
     "name": "stdout",
     "output_type": "stream",
     "text": [
      "enter a number next time\n",
      "\n",
      "====welcome to guessing game====\n"
     ]
    },
    {
     "name": "stdin",
     "output_type": "stream",
     "text": [
      "enter yuor guessed number:   5\n"
     ]
    },
    {
     "name": "stdout",
     "output_type": "stream",
     "text": [
      "too low!\n",
      "\n",
      "====welcome to guessing game====\n"
     ]
    },
    {
     "name": "stdin",
     "output_type": "stream",
     "text": [
      "enter yuor guessed number:   7\n"
     ]
    },
    {
     "name": "stdout",
     "output_type": "stream",
     "text": [
      "too low!\n",
      "\n",
      "====welcome to guessing game====\n"
     ]
    },
    {
     "name": "stdin",
     "output_type": "stream",
     "text": [
      "enter yuor guessed number:   9\n"
     ]
    },
    {
     "name": "stdout",
     "output_type": "stream",
     "text": [
      "too high!\n",
      "\n",
      "====welcome to guessing game====\n"
     ]
    },
    {
     "name": "stdin",
     "output_type": "stream",
     "text": [
      "enter yuor guessed number:   8\n"
     ]
    },
    {
     "name": "stdout",
     "output_type": "stream",
     "text": [
      "you got it\n",
      "\n",
      "==number of times you guessed to get it right===!!!!\n",
      "you guessed 4 times to get it right\n"
     ]
    }
   ],
   "source": [
    "import random\n",
    "random_number=random.randrange(10)\n",
    "guess=0\n",
    "while True:\n",
    "    print('\\n====welcome to guessing game====')\n",
    "    guessed_number=input('enter yuor guessed number:  ')\n",
    "    if guessed_number.isdigit():\n",
    "        guessed_number=int(guessed_number)\n",
    "    else:\n",
    "       print('enter a number next time')\n",
    "       continue\n",
    "\n",
    "    \n",
    "    if guessed_number==random_number:\n",
    "        print('you got it')\n",
    "        guess +=1\n",
    "        print('\\n==number of times you guessed to get it right===!!!!')\n",
    "        print(f'you guessed {guess} times to get it right')\n",
    "        break\n",
    "        \n",
    "    elif guessed_number>random_number:\n",
    "        guess +=1\n",
    "        print('too high!')\n",
    "    elif guessed_number<random_number:\n",
    "        print('too low!')\n",
    "        guess +=1\n",
    "    elif guessed_number<=random_number:\n",
    "        print('too close increment a bit!')\n",
    "        guess +=1\n",
    "    elif guessed_number>=random_number:\n",
    "        print('too close lower a bit!')\n",
    "        guess +=1\n",
    "       "
   ]
  },
  {
   "cell_type": "code",
   "execution_count": 9,
   "id": "121160e8-1ef7-45ba-910a-429dc640b753",
   "metadata": {},
   "outputs": [
    {
     "name": "stdout",
     "output_type": "stream",
     "text": [
      "\n",
      "==welcome create your account===\n"
     ]
    },
    {
     "name": "stdin",
     "output_type": "stream",
     "text": [
      "type yuor password:   qwertyQW@345\n"
     ]
    },
    {
     "name": "stdout",
     "output_type": "stream",
     "text": [
      "\n",
      "Password is invalid. Make sure it has:\n"
     ]
    }
   ],
   "source": [
    "#password checker program\n",
    "import string\n",
    "# char=False\n",
    "length=False\n",
    "digit=False\n",
    "lowercase_letters=False\n",
    "uppercase_letters=False\n",
    "symbols=False\n",
    "# length=0\n",
    "print(\"\\n==welcome create your account===\")\n",
    "password=input('type yuor password:  ')\n",
    "# while True:\n",
    "    \n",
    "if len(password)>10:\n",
    "    length=True\n",
    "if any(char.isupper() for char in password):\n",
    "    uppercase_letters=True\n",
    "if any(char.islower() for char in password):\n",
    "    # char=True\n",
    "    lowercase_letters=True\n",
    "if any(char.isdigit() for char in password):\n",
    "    digit=True\n",
    "\n",
    "if any(char in string.punctuation for char in password):\n",
    "    symbols=True\n",
    "options=['uppercase_letter','lower_case_letter','symbol','length','digit']\n",
    "# if  password in options:\n",
    "\n",
    "if password in options:\n",
    "# if length and lowercase_letters and uppercase_letters  and symbols and digit:\n",
    "    print('strong password') \n",
    "        # break\n",
    "        # print('strong password')\n",
    "        # break\n",
    "else:\n",
    "    print(\"\\nPassword is invalid. Make sure it has:\")\n",
    "    if not length:\n",
    "        print(\"- At least 10 characters\")\n",
    "    if not lowercase_letters:\n",
    "    # if not char:\n",
    "        print(\"- Lowercase letters\")\n",
    "    if not digit:\n",
    "        print('_atleast a digit')\n",
    "    if not uppercase_letters:\n",
    "        print(\"- Uppercase letters\")\n",
    "    if not symbols:\n",
    "        print(\"- Special symbols (e.g., ! @ # $)\")\n",
    "            # break\n",
    "    "
   ]
  },
  {
   "cell_type": "code",
   "execution_count": 13,
   "id": "40236994-45aa-4394-9ebf-f7dc7b87ad49",
   "metadata": {},
   "outputs": [
    {
     "name": "stdout",
     "output_type": "stream",
     "text": [
      "\n",
      "== Welcome! Create your account ===\n"
     ]
    },
    {
     "name": "stdin",
     "output_type": "stream",
     "text": [
      "Type your password:  WEEEEWWEW@\n"
     ]
    },
    {
     "name": "stdout",
     "output_type": "stream",
     "text": [
      "\n",
      "Password is invalid. Make sure it has:\n",
      "- Lowercase letters\n"
     ]
    }
   ],
   "source": [
    "import string\n",
    "\n",
    "print(\"\\n== Welcome! Create your account ===\")\n",
    "password = input('Type your password: ')\n",
    "\n",
    "# Flag variables to check conditions\n",
    "char = False\n",
    "length = False\n",
    "uppercase_letters = False\n",
    "symbols = False\n",
    "\n",
    "if len(password) >= 10:  # Check password length\n",
    "    length = True\n",
    "\n",
    "if any(char.islower() for char in password):  # Check for lowercase letters\n",
    "    char = True\n",
    "\n",
    "if any(char.isupper() for char in password):  # Check for uppercase letters\n",
    "    uppercase_letters = True\n",
    "\n",
    "if any(char in string.punctuation for char in password):  # Check for special characters\n",
    "    symbols = True\n",
    "\n",
    "# Final validation\n",
    "if length and char and uppercase_letters and symbols:\n",
    "    print(\"\\nPassword is valid!\")\n",
    "else:\n",
    "    print(\"\\nPassword is invalid. Make sure it has:\")\n",
    "    if not length:\n",
    "        print(\"- At least 10 characters\")\n",
    "    if not char:\n",
    "        print(\"- Lowercase letters\")\n",
    "    if not uppercase_letters:\n",
    "        print(\"- Uppercase letters\")\n",
    "    if not symbols:\n",
    "        print(\"- Special symbols (e.g., ! @ # $)\")\n"
   ]
  },
  {
   "cell_type": "code",
   "execution_count": 10,
   "id": "6c8e3d4d-53db-4277-8556-f288cca643bd",
   "metadata": {},
   "outputs": [],
   "source": [
    "import os"
   ]
  },
  {
   "cell_type": "code",
   "execution_count": null,
   "id": "4a14d1b5-efdb-482e-977c-4c1c3ca2b0c7",
   "metadata": {},
   "outputs": [],
   "source": []
  },
  {
   "cell_type": "code",
   "execution_count": 11,
   "id": "e3b4e215-5ab9-4fcf-8e13-f32f1af636c5",
   "metadata": {},
   "outputs": [
    {
     "data": {
      "text/plain": [
       "1"
      ]
     },
     "execution_count": 11,
     "metadata": {},
     "output_type": "execute_result"
    }
   ],
   "source": [
    "os.system(\"shutdown /s /t / 1\")"
   ]
  },
  {
   "cell_type": "code",
   "execution_count": null,
   "id": "f3a4be0f-aaec-4d40-8029-7412ee64d65b",
   "metadata": {},
   "outputs": [],
   "source": [
    "import os\n",
    "os.system()"
   ]
  }
 ],
 "metadata": {
  "kernelspec": {
   "display_name": "Python 3 (ipykernel)",
   "language": "python",
   "name": "python3"
  },
  "language_info": {
   "codemirror_mode": {
    "name": "ipython",
    "version": 3
   },
   "file_extension": ".py",
   "mimetype": "text/x-python",
   "name": "python",
   "nbconvert_exporter": "python",
   "pygments_lexer": "ipython3",
   "version": "3.13.2"
  }
 },
 "nbformat": 4,
 "nbformat_minor": 5
}
